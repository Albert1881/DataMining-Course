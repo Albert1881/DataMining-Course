{
 "cells": [
  {
   "cell_type": "code",
   "execution_count": 1,
   "outputs": [],
   "source": [
    "import numpy as np\n",
    "import pandas as pd\n",
    "import chardet\n",
    "import urllib"
   ],
   "metadata": {
    "collapsed": false,
    "pycharm": {
     "name": "#%%\n"
    }
   }
  },
  {
   "cell_type": "code",
   "execution_count": 2,
   "outputs": [],
   "source": [
    "CSV_FILE_PATH = './HW1data.csv'\n",
    "with open(CSV_FILE_PATH,'rb') as data:\n",
    "    result = chardet.detect(data.read(100000))\n",
    "data_encoding=result['encoding']"
   ],
   "metadata": {
    "collapsed": false,
    "pycharm": {
     "name": "#%%\n"
    }
   }
  },
  {
   "cell_type": "code",
   "execution_count": 3,
   "outputs": [
    {
     "data": {
      "text/plain": "      PatientId  AppointmentID Gender          ScheduledDay  \\\n0  4.838649e+14      5751504.0      F  2016-05-31T10:14:47Z   \n1  4.858271e+13      5736107.0      F  2016-05-25T07:55:55Z   \n2  7.156662e+12      5708125.0      F  2016-05-17T10:39:38Z   \n3  8.816117e+14      6313735.0    NaN  2017-03-30T05:52:45Z   \n4  1.158164e+14      6261424.0      F  2016-12-16T23:34:44Z   \n\n         AppointmentDay   Age        Neighbourhood  Scholarship  Hipertension  \\\n0  2016-06-08T00:00:00Z  21.0  ILHA DE SANTA MARIA          0.0           0.0   \n1  2016-05-25T00:00:00Z  36.0           ANDORINHAS          1.0           0.0   \n2  2016-06-06T00:00:00Z  41.0              ITARARÉ          0.0           0.0   \n3  2017-02-08T00:00:00Z  27.0           TABUAZEIRO          0.0           1.0   \n4  2016-11-16T00:00:00Z   NaN         PRAIA DO SUÁ          0.0           0.0   \n\n   Diabetes  Alcoholism  Handcap  SMS_received No-show  \n0       0.0         0.0      0.0           1.0      No  \n1       0.0         0.0      0.0           0.0      No  \n2       0.0         0.0      0.0           0.0      No  \n3       0.0         0.0      0.0           0.0      No  \n4       0.0         1.0      0.0           0.0      No  ",
      "text/html": "<div>\n<style scoped>\n    .dataframe tbody tr th:only-of-type {\n        vertical-align: middle;\n    }\n\n    .dataframe tbody tr th {\n        vertical-align: top;\n    }\n\n    .dataframe thead th {\n        text-align: right;\n    }\n</style>\n<table border=\"1\" class=\"dataframe\">\n  <thead>\n    <tr style=\"text-align: right;\">\n      <th></th>\n      <th>PatientId</th>\n      <th>AppointmentID</th>\n      <th>Gender</th>\n      <th>ScheduledDay</th>\n      <th>AppointmentDay</th>\n      <th>Age</th>\n      <th>Neighbourhood</th>\n      <th>Scholarship</th>\n      <th>Hipertension</th>\n      <th>Diabetes</th>\n      <th>Alcoholism</th>\n      <th>Handcap</th>\n      <th>SMS_received</th>\n      <th>No-show</th>\n    </tr>\n  </thead>\n  <tbody>\n    <tr>\n      <th>0</th>\n      <td>4.838649e+14</td>\n      <td>5751504.0</td>\n      <td>F</td>\n      <td>2016-05-31T10:14:47Z</td>\n      <td>2016-06-08T00:00:00Z</td>\n      <td>21.0</td>\n      <td>ILHA DE SANTA MARIA</td>\n      <td>0.0</td>\n      <td>0.0</td>\n      <td>0.0</td>\n      <td>0.0</td>\n      <td>0.0</td>\n      <td>1.0</td>\n      <td>No</td>\n    </tr>\n    <tr>\n      <th>1</th>\n      <td>4.858271e+13</td>\n      <td>5736107.0</td>\n      <td>F</td>\n      <td>2016-05-25T07:55:55Z</td>\n      <td>2016-05-25T00:00:00Z</td>\n      <td>36.0</td>\n      <td>ANDORINHAS</td>\n      <td>1.0</td>\n      <td>0.0</td>\n      <td>0.0</td>\n      <td>0.0</td>\n      <td>0.0</td>\n      <td>0.0</td>\n      <td>No</td>\n    </tr>\n    <tr>\n      <th>2</th>\n      <td>7.156662e+12</td>\n      <td>5708125.0</td>\n      <td>F</td>\n      <td>2016-05-17T10:39:38Z</td>\n      <td>2016-06-06T00:00:00Z</td>\n      <td>41.0</td>\n      <td>ITARARÉ</td>\n      <td>0.0</td>\n      <td>0.0</td>\n      <td>0.0</td>\n      <td>0.0</td>\n      <td>0.0</td>\n      <td>0.0</td>\n      <td>No</td>\n    </tr>\n    <tr>\n      <th>3</th>\n      <td>8.816117e+14</td>\n      <td>6313735.0</td>\n      <td>NaN</td>\n      <td>2017-03-30T05:52:45Z</td>\n      <td>2017-02-08T00:00:00Z</td>\n      <td>27.0</td>\n      <td>TABUAZEIRO</td>\n      <td>0.0</td>\n      <td>1.0</td>\n      <td>0.0</td>\n      <td>0.0</td>\n      <td>0.0</td>\n      <td>0.0</td>\n      <td>No</td>\n    </tr>\n    <tr>\n      <th>4</th>\n      <td>1.158164e+14</td>\n      <td>6261424.0</td>\n      <td>F</td>\n      <td>2016-12-16T23:34:44Z</td>\n      <td>2016-11-16T00:00:00Z</td>\n      <td>NaN</td>\n      <td>PRAIA DO SUÁ</td>\n      <td>0.0</td>\n      <td>0.0</td>\n      <td>0.0</td>\n      <td>1.0</td>\n      <td>0.0</td>\n      <td>0.0</td>\n      <td>No</td>\n    </tr>\n  </tbody>\n</table>\n</div>"
     },
     "execution_count": 3,
     "metadata": {},
     "output_type": "execute_result"
    }
   ],
   "source": [
    "df = pd.read_csv(CSV_FILE_PATH,encoding=data_encoding)\n",
    "df.head()"
   ],
   "metadata": {
    "collapsed": false,
    "pycharm": {
     "name": "#%%\n"
    }
   }
  },
  {
   "cell_type": "code",
   "execution_count": 4,
   "outputs": [
    {
     "name": "stdout",
     "output_type": "stream",
     "text": [
      "Percentage of missing data columns: \n",
      "PatientId         9.50\n",
      "AppointmentID     9.53\n",
      "Gender            9.59\n",
      "ScheduledDay      9.59\n",
      "AppointmentDay    9.57\n",
      "Age               9.54\n",
      "Neighbourhood     9.53\n",
      "Scholarship       9.60\n",
      "Hipertension      9.56\n",
      "Diabetes          9.54\n",
      "Alcoholism        9.57\n",
      "Handcap           9.55\n",
      "SMS_received      9.57\n",
      "No-show           9.55\n",
      "dtype: float64\n",
      "Percentage of total missing data:  9.56 %\n"
     ]
    }
   ],
   "source": [
    "missing_values_count = df.isnull().sum()\n",
    "row_num = df.shape[0]\n",
    "missing_values_percentage = np.round(missing_values_count[df.columns]/row_num*100,2)\n",
    "print(\"Percentage of missing data columns: \")\n",
    "print(missing_values_percentage)\n",
    "\n",
    "total_cells = np.product(df.shape)\n",
    "total_missing = missing_values_count.sum()\n",
    "print(\"Percentage of total missing data: \", np.round(total_missing/total_cells*100,2), \"%\")"
   ],
   "metadata": {
    "collapsed": false,
    "pycharm": {
     "name": "#%%\n"
    }
   }
  },
  {
   "cell_type": "code",
   "execution_count": 120,
   "outputs": [],
   "source": [
    "df_fillna = df.copy()\n",
    "key = 'PatientId'\n",
    "subset = ['Gender','Age','Neighbourhood']\n",
    "for column in subset:\n",
    "    df_fillna[column+'_new'] = df_fillna.groupby(key)[column].transform('first')\n",
    "    df_fillna[column].fillna(df_fillna[column+'_new'],inplace=True)\n",
    "    df_fillna.drop([column+'_new'],axis=1,inplace=True)\n"
   ],
   "metadata": {
    "collapsed": false,
    "pycharm": {
     "name": "#%%\n"
    }
   }
  },
  {
   "cell_type": "code",
   "execution_count": 96,
   "outputs": [
    {
     "name": "stdout",
     "output_type": "stream",
     "text": [
      "Percentage of missing data columns: \n",
      "PatientId        9.50\n",
      "Gender           1.10\n",
      "Age              1.08\n",
      "Neighbourhood    1.08\n",
      "dtype: float64\n"
     ]
    }
   ],
   "source": [
    "missing_values_count = df_fillna.isnull().sum()\n",
    "row_num = df_fillna.shape[0]\n",
    "key_subset=subset.copy()\n",
    "key_subset.insert(0,key)\n",
    "missing_values_percentage = np.round(missing_values_count[key_subset]/row_num*100,2)\n",
    "print(\"Percentage of missing data columns: \")\n",
    "print(missing_values_percentage)\n"
   ],
   "metadata": {
    "collapsed": false,
    "pycharm": {
     "name": "#%%\n"
    }
   }
  },
  {
   "cell_type": "code",
   "source": [
    "m=df[df.PatientId.isnull()]\n",
    "m[df[subset].notnull().T.all()][subset]"
   ],
   "metadata": {
    "collapsed": false,
    "pycharm": {
     "name": "#%%\n"
    }
   },
   "execution_count": 101,
   "outputs": [
    {
     "data": {
      "text/plain": "True"
     },
     "execution_count": 101,
     "metadata": {},
     "output_type": "execute_result"
    }
   ]
  },
  {
   "cell_type": "code",
   "execution_count": 106,
   "outputs": [
    {
     "data": {
      "text/plain": "        PatientId Gender   Age   Neighbourhood\n24            NaN      F  55.0   SANTOS DUMONT\n39            NaN      F  59.0    FONTE GRANDE\n42            NaN      F  35.0  GRANDE VITÓRIA\n43            NaN      M  39.0      TABUAZEIRO\n80            NaN      M  59.0     RESISTÊNCIA\n...           ...    ...   ...             ...\n667459        NaN      F  69.0          BONFIM\n667482        NaN      F  43.0         ITARARÉ\n667485        NaN      F  29.0         MARUÍPE\n667519        NaN      F  34.0     MARIA ORTIZ\n667524        NaN      M  82.0     SANTA CLARA\n\n[44110 rows x 4 columns]",
      "text/html": "<div>\n<style scoped>\n    .dataframe tbody tr th:only-of-type {\n        vertical-align: middle;\n    }\n\n    .dataframe tbody tr th {\n        vertical-align: top;\n    }\n\n    .dataframe thead th {\n        text-align: right;\n    }\n</style>\n<table border=\"1\" class=\"dataframe\">\n  <thead>\n    <tr style=\"text-align: right;\">\n      <th></th>\n      <th>PatientId</th>\n      <th>Gender</th>\n      <th>Age</th>\n      <th>Neighbourhood</th>\n    </tr>\n  </thead>\n  <tbody>\n    <tr>\n      <th>24</th>\n      <td>NaN</td>\n      <td>F</td>\n      <td>55.0</td>\n      <td>SANTOS DUMONT</td>\n    </tr>\n    <tr>\n      <th>39</th>\n      <td>NaN</td>\n      <td>F</td>\n      <td>59.0</td>\n      <td>FONTE GRANDE</td>\n    </tr>\n    <tr>\n      <th>42</th>\n      <td>NaN</td>\n      <td>F</td>\n      <td>35.0</td>\n      <td>GRANDE VITÓRIA</td>\n    </tr>\n    <tr>\n      <th>43</th>\n      <td>NaN</td>\n      <td>M</td>\n      <td>39.0</td>\n      <td>TABUAZEIRO</td>\n    </tr>\n    <tr>\n      <th>80</th>\n      <td>NaN</td>\n      <td>M</td>\n      <td>59.0</td>\n      <td>RESISTÊNCIA</td>\n    </tr>\n    <tr>\n      <th>...</th>\n      <td>...</td>\n      <td>...</td>\n      <td>...</td>\n      <td>...</td>\n    </tr>\n    <tr>\n      <th>667459</th>\n      <td>NaN</td>\n      <td>F</td>\n      <td>69.0</td>\n      <td>BONFIM</td>\n    </tr>\n    <tr>\n      <th>667482</th>\n      <td>NaN</td>\n      <td>F</td>\n      <td>43.0</td>\n      <td>ITARARÉ</td>\n    </tr>\n    <tr>\n      <th>667485</th>\n      <td>NaN</td>\n      <td>F</td>\n      <td>29.0</td>\n      <td>MARUÍPE</td>\n    </tr>\n    <tr>\n      <th>667519</th>\n      <td>NaN</td>\n      <td>F</td>\n      <td>34.0</td>\n      <td>MARIA ORTIZ</td>\n    </tr>\n    <tr>\n      <th>667524</th>\n      <td>NaN</td>\n      <td>M</td>\n      <td>82.0</td>\n      <td>SANTA CLARA</td>\n    </tr>\n  </tbody>\n</table>\n<p>44110 rows × 4 columns</p>\n</div>"
     },
     "execution_count": 106,
     "metadata": {},
     "output_type": "execute_result"
    }
   ],
   "source": [
    "df_fillna[df_fillna.PatientId.isnull() & df_fillna[subset].notnull().T.all()][key_subset]\n"
   ],
   "metadata": {
    "collapsed": false,
    "pycharm": {
     "name": "#%%\n"
    }
   }
  },
  {
   "cell_type": "code",
   "execution_count": 105,
   "outputs": [
    {
     "data": {
      "text/plain": "        PatientId  AppointmentID Gender          ScheduledDay  \\\n24            NaN      7215198.0      F  2017-04-24T14:52:50Z   \n39            NaN      6947275.0      F                   NaN   \n42            NaN      6721383.0      F  2017-05-03T18:50:23Z   \n43            NaN      7627886.0      M  2016-09-14T21:39:01Z   \n80            NaN      6925609.0      M  2017-04-24T17:20:15Z   \n...           ...            ...    ...                   ...   \n667459        NaN      7488291.0      F  2017-04-28T15:10:43Z   \n667482        NaN      6774538.0      F  2017-05-07T01:29:04Z   \n667485        NaN      6911478.0      F                   NaN   \n667519        NaN            NaN      F  2016-10-24T03:03:04Z   \n667524        NaN      7147781.0      M                   NaN   \n\n              AppointmentDay   Age   Neighbourhood  Scholarship  Hipertension  \\\n24      2016-05-26T00:00:00Z  55.0   SANTOS DUMONT          0.0           1.0   \n39      2016-08-18T00:00:00Z  59.0    FONTE GRANDE          0.0           0.0   \n42      2017-04-30T00:00:00Z  35.0  GRANDE VITÓRIA          0.0           1.0   \n43      2016-07-25T00:00:00Z  39.0      TABUAZEIRO          0.0           0.0   \n80      2016-08-19T00:00:00Z  59.0     RESISTÊNCIA          0.0           0.0   \n...                      ...   ...             ...          ...           ...   \n667459  2016-05-20T00:00:00Z  69.0          BONFIM          0.0           0.0   \n667482  2017-03-06T00:00:00Z  43.0         ITARARÉ          0.0           0.0   \n667485  2016-07-01T00:00:00Z  29.0         MARUÍPE          0.0           0.0   \n667519  2016-09-22T00:00:00Z  34.0     MARIA ORTIZ          0.0           0.0   \n667524                   NaN  82.0     SANTA CLARA          0.0           NaN   \n\n        Diabetes  Alcoholism  Handcap  SMS_received No-show  PatientId_new  \n24           0.0         0.0      4.0           0.0      No   8.615864e+11  \n39           1.0         0.0      2.0           1.0      No   3.272469e+12  \n42           0.0         0.0      2.0           0.0     Yes   4.527948e+13  \n43           0.0         1.0      1.0           1.0      No   6.626197e+14  \n80           0.0         0.0      4.0           0.0      No   1.872838e+12  \n...          ...         ...      ...           ...     ...            ...  \n667459       NaN         0.0      0.0           1.0      No   3.792467e+12  \n667482       0.0         0.0      0.0           0.0      No   2.592888e+14  \n667485       0.0         0.0      0.0           1.0      No   7.242365e+12  \n667519       1.0         1.0      0.0           0.0      No   4.158235e+14  \n667524       NaN         0.0      0.0           NaN      No   1.182859e+13  \n\n[44110 rows x 15 columns]",
      "text/html": "<div>\n<style scoped>\n    .dataframe tbody tr th:only-of-type {\n        vertical-align: middle;\n    }\n\n    .dataframe tbody tr th {\n        vertical-align: top;\n    }\n\n    .dataframe thead th {\n        text-align: right;\n    }\n</style>\n<table border=\"1\" class=\"dataframe\">\n  <thead>\n    <tr style=\"text-align: right;\">\n      <th></th>\n      <th>PatientId</th>\n      <th>AppointmentID</th>\n      <th>Gender</th>\n      <th>ScheduledDay</th>\n      <th>AppointmentDay</th>\n      <th>Age</th>\n      <th>Neighbourhood</th>\n      <th>Scholarship</th>\n      <th>Hipertension</th>\n      <th>Diabetes</th>\n      <th>Alcoholism</th>\n      <th>Handcap</th>\n      <th>SMS_received</th>\n      <th>No-show</th>\n      <th>PatientId_new</th>\n    </tr>\n  </thead>\n  <tbody>\n    <tr>\n      <th>24</th>\n      <td>NaN</td>\n      <td>7215198.0</td>\n      <td>F</td>\n      <td>2017-04-24T14:52:50Z</td>\n      <td>2016-05-26T00:00:00Z</td>\n      <td>55.0</td>\n      <td>SANTOS DUMONT</td>\n      <td>0.0</td>\n      <td>1.0</td>\n      <td>0.0</td>\n      <td>0.0</td>\n      <td>4.0</td>\n      <td>0.0</td>\n      <td>No</td>\n      <td>8.615864e+11</td>\n    </tr>\n    <tr>\n      <th>39</th>\n      <td>NaN</td>\n      <td>6947275.0</td>\n      <td>F</td>\n      <td>NaN</td>\n      <td>2016-08-18T00:00:00Z</td>\n      <td>59.0</td>\n      <td>FONTE GRANDE</td>\n      <td>0.0</td>\n      <td>0.0</td>\n      <td>1.0</td>\n      <td>0.0</td>\n      <td>2.0</td>\n      <td>1.0</td>\n      <td>No</td>\n      <td>3.272469e+12</td>\n    </tr>\n    <tr>\n      <th>42</th>\n      <td>NaN</td>\n      <td>6721383.0</td>\n      <td>F</td>\n      <td>2017-05-03T18:50:23Z</td>\n      <td>2017-04-30T00:00:00Z</td>\n      <td>35.0</td>\n      <td>GRANDE VITÓRIA</td>\n      <td>0.0</td>\n      <td>1.0</td>\n      <td>0.0</td>\n      <td>0.0</td>\n      <td>2.0</td>\n      <td>0.0</td>\n      <td>Yes</td>\n      <td>4.527948e+13</td>\n    </tr>\n    <tr>\n      <th>43</th>\n      <td>NaN</td>\n      <td>7627886.0</td>\n      <td>M</td>\n      <td>2016-09-14T21:39:01Z</td>\n      <td>2016-07-25T00:00:00Z</td>\n      <td>39.0</td>\n      <td>TABUAZEIRO</td>\n      <td>0.0</td>\n      <td>0.0</td>\n      <td>0.0</td>\n      <td>1.0</td>\n      <td>1.0</td>\n      <td>1.0</td>\n      <td>No</td>\n      <td>6.626197e+14</td>\n    </tr>\n    <tr>\n      <th>80</th>\n      <td>NaN</td>\n      <td>6925609.0</td>\n      <td>M</td>\n      <td>2017-04-24T17:20:15Z</td>\n      <td>2016-08-19T00:00:00Z</td>\n      <td>59.0</td>\n      <td>RESISTÊNCIA</td>\n      <td>0.0</td>\n      <td>0.0</td>\n      <td>0.0</td>\n      <td>0.0</td>\n      <td>4.0</td>\n      <td>0.0</td>\n      <td>No</td>\n      <td>1.872838e+12</td>\n    </tr>\n    <tr>\n      <th>...</th>\n      <td>...</td>\n      <td>...</td>\n      <td>...</td>\n      <td>...</td>\n      <td>...</td>\n      <td>...</td>\n      <td>...</td>\n      <td>...</td>\n      <td>...</td>\n      <td>...</td>\n      <td>...</td>\n      <td>...</td>\n      <td>...</td>\n      <td>...</td>\n      <td>...</td>\n    </tr>\n    <tr>\n      <th>667459</th>\n      <td>NaN</td>\n      <td>7488291.0</td>\n      <td>F</td>\n      <td>2017-04-28T15:10:43Z</td>\n      <td>2016-05-20T00:00:00Z</td>\n      <td>69.0</td>\n      <td>BONFIM</td>\n      <td>0.0</td>\n      <td>0.0</td>\n      <td>NaN</td>\n      <td>0.0</td>\n      <td>0.0</td>\n      <td>1.0</td>\n      <td>No</td>\n      <td>3.792467e+12</td>\n    </tr>\n    <tr>\n      <th>667482</th>\n      <td>NaN</td>\n      <td>6774538.0</td>\n      <td>F</td>\n      <td>2017-05-07T01:29:04Z</td>\n      <td>2017-03-06T00:00:00Z</td>\n      <td>43.0</td>\n      <td>ITARARÉ</td>\n      <td>0.0</td>\n      <td>0.0</td>\n      <td>0.0</td>\n      <td>0.0</td>\n      <td>0.0</td>\n      <td>0.0</td>\n      <td>No</td>\n      <td>2.592888e+14</td>\n    </tr>\n    <tr>\n      <th>667485</th>\n      <td>NaN</td>\n      <td>6911478.0</td>\n      <td>F</td>\n      <td>NaN</td>\n      <td>2016-07-01T00:00:00Z</td>\n      <td>29.0</td>\n      <td>MARUÍPE</td>\n      <td>0.0</td>\n      <td>0.0</td>\n      <td>0.0</td>\n      <td>0.0</td>\n      <td>0.0</td>\n      <td>1.0</td>\n      <td>No</td>\n      <td>7.242365e+12</td>\n    </tr>\n    <tr>\n      <th>667519</th>\n      <td>NaN</td>\n      <td>NaN</td>\n      <td>F</td>\n      <td>2016-10-24T03:03:04Z</td>\n      <td>2016-09-22T00:00:00Z</td>\n      <td>34.0</td>\n      <td>MARIA ORTIZ</td>\n      <td>0.0</td>\n      <td>0.0</td>\n      <td>1.0</td>\n      <td>1.0</td>\n      <td>0.0</td>\n      <td>0.0</td>\n      <td>No</td>\n      <td>4.158235e+14</td>\n    </tr>\n    <tr>\n      <th>667524</th>\n      <td>NaN</td>\n      <td>7147781.0</td>\n      <td>M</td>\n      <td>NaN</td>\n      <td>NaN</td>\n      <td>82.0</td>\n      <td>SANTA CLARA</td>\n      <td>0.0</td>\n      <td>NaN</td>\n      <td>NaN</td>\n      <td>0.0</td>\n      <td>0.0</td>\n      <td>NaN</td>\n      <td>No</td>\n      <td>1.182859e+13</td>\n    </tr>\n  </tbody>\n</table>\n<p>44110 rows × 15 columns</p>\n</div>"
     },
     "execution_count": 105,
     "metadata": {},
     "output_type": "execute_result"
    }
   ],
   "source": [
    "df_fillna[key+'_new'] = df_fillna.groupby(subset)[key].transform('first')\n",
    "df_fillna[df_fillna[key+'_new'].notnull()&df_fillna[key].isnull()]"
   ],
   "metadata": {
    "collapsed": false,
    "pycharm": {
     "name": "#%%\n"
    }
   }
  },
  {
   "cell_type": "code",
   "execution_count": 121,
   "outputs": [
    {
     "data": {
      "text/plain": "(63467, 14)"
     },
     "execution_count": 121,
     "metadata": {},
     "output_type": "execute_result"
    }
   ],
   "source": [
    "m=df_fillna[df_fillna.PatientId.notnull()].drop_duplicates(key_subset)\n",
    "m.shape"
   ],
   "metadata": {
    "collapsed": false,
    "pycharm": {
     "name": "#%%\n"
    }
   }
  },
  {
   "cell_type": "code",
   "execution_count": 126,
   "outputs": [],
   "source": [
    "# m.drop_duplicates(key).shape\n",
    "x=(int)(m[m.PatientId.duplicated()][0:1].PatientId)\n",
    "t=m[m.PatientId.duplicated()][0:1].ScheduledDay"
   ],
   "metadata": {
    "collapsed": false,
    "pycharm": {
     "name": "#%%\n"
    }
   }
  },
  {
   "cell_type": "code",
   "execution_count": 123,
   "outputs": [
    {
     "data": {
      "text/plain": "         PatientId  AppointmentID Gender          ScheduledDay  \\\n322   3.494352e+14      7681811.0      M  2017-05-22T08:10:16Z   \n1555  3.494352e+14      5712457.0      M  2016-05-18T08:54:15Z   \n\n            AppointmentDay   Age Neighbourhood  Scholarship  Hipertension  \\\n322                    NaN  45.0      DA PENHA          0.0           0.0   \n1555  2016-06-01T00:00:00Z  46.0      DA PENHA          0.0           0.0   \n\n      Diabetes  Alcoholism  Handcap  SMS_received No-show  \n322        0.0         0.0      0.0           1.0      No  \n1555       0.0         0.0      0.0           1.0      No  ",
      "text/html": "<div>\n<style scoped>\n    .dataframe tbody tr th:only-of-type {\n        vertical-align: middle;\n    }\n\n    .dataframe tbody tr th {\n        vertical-align: top;\n    }\n\n    .dataframe thead th {\n        text-align: right;\n    }\n</style>\n<table border=\"1\" class=\"dataframe\">\n  <thead>\n    <tr style=\"text-align: right;\">\n      <th></th>\n      <th>PatientId</th>\n      <th>AppointmentID</th>\n      <th>Gender</th>\n      <th>ScheduledDay</th>\n      <th>AppointmentDay</th>\n      <th>Age</th>\n      <th>Neighbourhood</th>\n      <th>Scholarship</th>\n      <th>Hipertension</th>\n      <th>Diabetes</th>\n      <th>Alcoholism</th>\n      <th>Handcap</th>\n      <th>SMS_received</th>\n      <th>No-show</th>\n    </tr>\n  </thead>\n  <tbody>\n    <tr>\n      <th>322</th>\n      <td>3.494352e+14</td>\n      <td>7681811.0</td>\n      <td>M</td>\n      <td>2017-05-22T08:10:16Z</td>\n      <td>NaN</td>\n      <td>45.0</td>\n      <td>DA PENHA</td>\n      <td>0.0</td>\n      <td>0.0</td>\n      <td>0.0</td>\n      <td>0.0</td>\n      <td>0.0</td>\n      <td>1.0</td>\n      <td>No</td>\n    </tr>\n    <tr>\n      <th>1555</th>\n      <td>3.494352e+14</td>\n      <td>5712457.0</td>\n      <td>M</td>\n      <td>2016-05-18T08:54:15Z</td>\n      <td>2016-06-01T00:00:00Z</td>\n      <td>46.0</td>\n      <td>DA PENHA</td>\n      <td>0.0</td>\n      <td>0.0</td>\n      <td>0.0</td>\n      <td>0.0</td>\n      <td>0.0</td>\n      <td>1.0</td>\n      <td>No</td>\n    </tr>\n  </tbody>\n</table>\n</div>"
     },
     "execution_count": 123,
     "metadata": {},
     "output_type": "execute_result"
    }
   ],
   "source": [
    "m[m.PatientId==x]"
   ],
   "metadata": {
    "collapsed": false,
    "pycharm": {
     "name": "#%%\n"
    }
   }
  },
  {
   "cell_type": "code",
   "execution_count": 135,
   "outputs": [
    {
     "data": {
      "text/plain": "False"
     },
     "execution_count": 135,
     "metadata": {},
     "output_type": "execute_result"
    }
   ],
   "source": [
    "a=df.PatientId.unique()\n",
    "np.NAN in a"
   ],
   "metadata": {
    "collapsed": false,
    "pycharm": {
     "name": "#%%\n"
    }
   }
  },
  {
   "cell_type": "code",
   "execution_count": 147,
   "outputs": [
    {
     "data": {
      "text/plain": "True"
     },
     "execution_count": 147,
     "metadata": {},
     "output_type": "execute_result"
    }
   ],
   "source": [
    "test = pd.DataFrame({'a': [1, 1, np.NaN, 2, 3],\n",
    "                  'b': [1, 2, 3, 4, 5],\n",
    "                  'c': np.random.randn(5)})\n",
    "\n",
    "m=test['a'].unique()\n",
    "np.isnan(m)"
   ],
   "metadata": {
    "collapsed": false,
    "pycharm": {
     "name": "#%%\n"
    }
   }
  }
 ],
 "metadata": {
  "kernelspec": {
   "name": "pycharm-e6625acc",
   "language": "python",
   "display_name": "PyCharm (DM)"
  },
  "language_info": {
   "codemirror_mode": {
    "name": "ipython",
    "version": 2
   },
   "file_extension": ".py",
   "mimetype": "text/x-python",
   "name": "python",
   "nbconvert_exporter": "python",
   "pygments_lexer": "ipython2",
   "version": "2.7.6"
  }
 },
 "nbformat": 4,
 "nbformat_minor": 0
}