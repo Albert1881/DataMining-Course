{
 "cells": [
  {
   "cell_type": "code",
   "execution_count": null,
   "outputs": [],
   "source": [
    "import numpy as np\n",
    "import pandas as pd\n",
    "import matplotlib.pyplot as plt\n",
    "from sklearn.cluster import KMeans\n",
    "from sklearn.cluster import DBSCAN\n",
    "from sklearn.preprocessing import StandardScaler\n",
    "from sklearn.decomposition import PCA\n",
    "from sklearn import metrics\n",
    "\n",
    "plt.style.use('ggplot')"
   ],
   "metadata": {
    "collapsed": false,
    "pycharm": {
     "name": "#%%\n"
    }
   }
  },
  {
   "cell_type": "markdown",
   "source": [
    "## Question 1"
   ],
   "metadata": {
    "collapsed": false
   }
  },
  {
   "cell_type": "code",
   "execution_count": null,
   "outputs": [],
   "source": [
    "# Load data.\n",
    "df_1 = pd.read_csv('./HW3_1_data.csv')\n"
   ],
   "metadata": {
    "collapsed": false,
    "pycharm": {
     "name": "#%%\n"
    }
   }
  },
  {
   "cell_type": "code",
   "execution_count": null,
   "outputs": [],
   "source": [
    "# Create numpy arrays for features and target\n",
    "X_1 = df_1.iloc[:,:].values\n"
   ],
   "metadata": {
    "collapsed": false,
    "pycharm": {
     "name": "#%%\n"
    }
   }
  },
  {
   "cell_type": "markdown",
   "source": [
    "### KMeans"
   ],
   "metadata": {
    "collapsed": false,
    "pycharm": {
     "name": "#%% md\n"
    }
   }
  },
  {
   "cell_type": "code",
   "execution_count": null,
   "outputs": [],
   "source": [
    "# Generate kmeans list and fit them\n",
    "kmeans_models = [KMeans(n_clusters=k, random_state=0).fit(X_1) for k in range (1, 25)]\n",
    "innertia = [model.inertia_ for model in kmeans_models]\n",
    "# Plot the graph of n versus innertia\n",
    "plt.plot(range(1, 25), innertia)\n",
    "plt.title('Elbow method')\n",
    "plt.xlabel('Number of Clusters')\n",
    "plt.ylabel('Innertia')\n",
    "plt.show()\n"
   ],
   "metadata": {
    "collapsed": false,
    "pycharm": {
     "name": "#%%\n"
    }
   }
  },
  {
   "cell_type": "code",
   "source": [
    "# Since the elbow is coming at range 4 to 7, calculate the silhouette score and\n",
    "# choose the best kmeans model.\n",
    "silhoutte_scores = [metrics.silhouette_score(X_1, model.labels_) for model in kmeans_models[3:7]]\n",
    "model_clusters = [model.n_clusters for model in kmeans_models[3:7]]\n",
    "plt.plot(model_clusters, silhoutte_scores, \"bo-\")\n",
    "plt.xticks(model_clusters)\n",
    "plt.title('Silhoutte scores vs Number of clusters')\n",
    "plt.xlabel('Number of clusters')\n",
    "plt.ylabel('Silhoutte score')\n",
    "plt.show()"
   ],
   "metadata": {
    "collapsed": false,
    "pycharm": {
     "name": "#%%\n"
    }
   },
   "execution_count": null,
   "outputs": []
  },
  {
   "cell_type": "code",
   "execution_count": null,
   "outputs": [],
   "source": [
    "# As shown in the figure above, the k-means algorithm selects N_Clusters = 4\n",
    "# to maximize silhouette score\n",
    "kmeans = KMeans(n_clusters=4)\n",
    "y_pred = kmeans.fit_predict(X_1)\n",
    "plt.scatter(X_1[:, 0], X_1[:, 1], c=y_pred)\n",
    "s_score = metrics.silhouette_score(X_1, kmeans.labels_)\n",
    "plt.title(\"n_clusters: %d, silhouette_score: %.4f\"%(kmeans.n_clusters, s_score) )\n",
    "plt.show()"
   ],
   "metadata": {
    "collapsed": false,
    "pycharm": {
     "name": "#%%\n"
    }
   }
  },
  {
   "cell_type": "code",
   "execution_count": null,
   "outputs": [],
   "source": [
    "# Show the calinski_harabasz_score and silhouette_score\n",
    "c_score = metrics.calinski_harabasz_score(X_1, y_pred)\n",
    "s_score = metrics.silhouette_score(X_1, kmeans.labels_)\n",
    "print(\"kmeans \\n n_clusters: 4\\n calinski_harabasz_score: %.4f\\n silhouette_score: %.4f\"\n",
    "      %(c_score,s_score))"
   ],
   "metadata": {
    "collapsed": false,
    "pycharm": {
     "name": "#%%\n"
    }
   }
  },
  {
   "cell_type": "markdown",
   "source": [
    "### DBSCAN"
   ],
   "metadata": {
    "collapsed": false,
    "pycharm": {
     "name": "#%% md\n"
    }
   }
  },
  {
   "cell_type": "code",
   "execution_count": null,
   "outputs": [],
   "source": [
    "# Change the eps parameter and the min_sample parameter and calculate the\n",
    "# silhouette score. Then choose the best DBSCAN model with highest score.\n",
    "model = None\n",
    "best_socre = -1\n",
    "eps_list = np.arange(1,3,0.1)\n",
    "sample_list = [1,5,10]\n",
    "for _eps in eps_list:\n",
    "    for _min_sample in sample_list:\n",
    "        dbscan = DBSCAN(eps=_eps, min_samples=_min_sample)\n",
    "        y_pred = dbscan.fit_predict(X_1)\n",
    "        s_score = metrics.silhouette_score(X_1, dbscan.labels_)\n",
    "        if s_score > best_socre:\n",
    "            best_socre = s_score\n",
    "            model = dbscan\n",
    "# Show the parameter and score of best model\n",
    "print(\"eps: %.4f, min_samples: %d,\\n silhouette_score: %.4f\"%\n",
    "      (model.eps, model.min_samples, best_socre) )\n"
   ],
   "metadata": {
    "collapsed": false,
    "pycharm": {
     "name": "#%%\n"
    }
   }
  },
  {
   "cell_type": "code",
   "execution_count": null,
   "outputs": [],
   "source": [
    "# Plot the result of DBSCAN\n",
    "y_pred = model.fit_predict(X_1)\n",
    "plt.scatter(X_1[:,0], X_1[:,1], c=y_pred)\n",
    "s_score = metrics.silhouette_score(X_1, model.labels_)\n",
    "plt.title(\"eps: %.4f, min_samples: %d,\\n silhouette_score: %.4f\"\n",
    "          %(model.eps, model.min_samples, s_score) )\n",
    "\n",
    "plt.show()\n"
   ],
   "metadata": {
    "collapsed": false,
    "pycharm": {
     "name": "#%%\n"
    }
   }
  },
  {
   "cell_type": "code",
   "execution_count": null,
   "outputs": [],
   "source": [
    "# Show the calinski_harabasz_score and silhouette_score\n",
    "c_score = metrics.calinski_harabasz_score(X_1, y_pred)\n",
    "s_score = metrics.silhouette_score(X_1, model.labels_)\n",
    "print(\"DBSCAN \\n eps: %.4f, min_samples: %d\\n calinski_harabasz_score: %.4f\\n silhouette_score: %.4f\"\n",
    "      %(model.eps, model.min_samples,c_score,s_score))"
   ],
   "metadata": {
    "collapsed": false,
    "pycharm": {
     "name": "#%%\n"
    }
   }
  },
  {
   "cell_type": "markdown",
   "source": [
    "## Question 2"
   ],
   "metadata": {
    "collapsed": false
   }
  },
  {
   "cell_type": "markdown",
   "source": [
    "### Data Cleaning"
   ],
   "metadata": {
    "collapsed": false,
    "pycharm": {
     "name": "#%% md\n"
    }
   }
  },
  {
   "cell_type": "code",
   "execution_count": null,
   "outputs": [],
   "source": [
    "# Load data\n",
    "df_2 = pd.read_csv('./HW3_2_data.csv')\n",
    "df_2.head()"
   ],
   "metadata": {
    "collapsed": false,
    "pycharm": {
     "name": "#%%\n"
    }
   }
  },
  {
   "cell_type": "code",
   "execution_count": null,
   "outputs": [],
   "source": [
    "# Show the summary statistics of the data provided\n",
    "df_2.describe()"
   ],
   "metadata": {
    "collapsed": false,
    "pycharm": {
     "name": "#%%\n"
    }
   }
  },
  {
   "cell_type": "code",
   "execution_count": null,
   "outputs": [],
   "source": [
    "# Show the full summary\n",
    "df_2.info()"
   ],
   "metadata": {
    "collapsed": false,
    "pycharm": {
     "name": "#%%\n"
    }
   }
  },
  {
   "cell_type": "code",
   "execution_count": null,
   "outputs": [],
   "source": [
    "# Customer ID seems to be an unique id for each customer and hence won't play\n",
    "# any role in determining the cluster. Delete this columns.\n",
    "df_2.drop(['CUST_ID'], axis=1, inplace=True)"
   ],
   "metadata": {
    "collapsed": false,
    "pycharm": {
     "name": "#%%\n"
    }
   }
  },
  {
   "cell_type": "code",
   "execution_count": null,
   "outputs": [],
   "source": [
    "# Show the proportion of NaN values of each column\n",
    "df_2.isna().sum()"
   ],
   "metadata": {
    "collapsed": false,
    "pycharm": {
     "name": "#%%\n"
    }
   }
  },
  {
   "cell_type": "code",
   "execution_count": null,
   "outputs": [],
   "source": [
    "# Use mean to replace the Nan values in CREDIT_LIMIT and MINIMUM_PAYMENTS\n",
    "df_2['MINIMUM_PAYMENTS'].fillna(df_2['MINIMUM_PAYMENTS'].mean(skipna=True), inplace=True)\n",
    "df_2['CREDIT_LIMIT'].fillna(df_2['CREDIT_LIMIT'].mean(skipna=True), inplace=True)"
   ],
   "metadata": {
    "collapsed": false,
    "pycharm": {
     "name": "#%%\n"
    }
   }
  },
  {
   "cell_type": "code",
   "execution_count": null,
   "outputs": [],
   "source": [
    "# Normalized data\n",
    "X_2 = df_2.copy()\n",
    "scaler = StandardScaler()\n",
    "X_2 = scaler.fit_transform(X_2)\n",
    "X_2.shape\n"
   ],
   "metadata": {
    "collapsed": false,
    "pycharm": {
     "name": "#%%\n"
    }
   }
  },
  {
   "cell_type": "markdown",
   "source": [
    "### Train model"
   ],
   "metadata": {
    "collapsed": false,
    "pycharm": {
     "name": "#%% md\n"
    }
   }
  },
  {
   "cell_type": "code",
   "execution_count": null,
   "outputs": [],
   "source": [
    "# plot the inertia values for each iteration that happens in a Kmeans run.\n",
    "clusters = 25\n",
    "cost = []\n",
    "kmeans_models = [KMeans(n_clusters=k, random_state=23).fit(X_2) for k in range (1,25)]\n",
    "innertia = [model.inertia_ for model in kmeans_models]\n",
    "\n",
    "plt.plot(range(1, 25), innertia)\n",
    "plt.title('Elbow method')\n",
    "plt.xlabel('Number of Clusters')\n",
    "plt.ylabel('Innertia')\n",
    "plt.show()"
   ],
   "metadata": {
    "collapsed": false,
    "pycharm": {
     "name": "#%%\n"
    }
   }
  },
  {
   "cell_type": "code",
   "execution_count": null,
   "outputs": [],
   "source": [
    "# Since the elbow is coming at range 2 to 7, calculate the silhouette score and\n",
    "# choose the best kmeans model.\n",
    "silhoutte_scores = [metrics.silhouette_score(X_2, model.labels_) for model in kmeans_models[1:7]]\n",
    "model_clusters = [model.n_clusters for model in kmeans_models[1:7]]\n",
    "plt.plot(model_clusters, silhoutte_scores, \"bo-\")\n",
    "plt.xticks(model_clusters)\n",
    "plt.title('Silhoutte scores vs Number of clusters')\n",
    "plt.xlabel('Number of clusters')\n",
    "plt.ylabel('Silhoutte score')\n",
    "plt.show()"
   ],
   "metadata": {
    "collapsed": false,
    "pycharm": {
     "name": "#%%\n",
     "is_executing": true
    }
   }
  },
  {
   "cell_type": "code",
   "execution_count": null,
   "outputs": [],
   "source": [
    "# As shown in the figure above, the k-means algorithm selects N_Clusters = 3\n",
    "# to maximize silhouette score\n",
    "k_means = kmeans_models[2]\n",
    "y_pred = k_means.fit_predict(X_2)\n",
    "labels = k_means.labels_"
   ],
   "metadata": {
    "collapsed": false,
    "pycharm": {
     "name": "#%%\n",
     "is_executing": true
    }
   }
  },
  {
   "cell_type": "code",
   "execution_count": null,
   "outputs": [],
   "source": [
    "# Show the calinski_harabasz_score and silhouette_score\n",
    "c_score = metrics.calinski_harabasz_score(X_2, y_pred)\n",
    "s_score = metrics.silhouette_score(X_2, k_means.labels_)\n",
    "print(\"kmeans \\n n_clusters: %d\\n calinski_harabasz_score: %.4f\\n silhouette_score: %.4f\"\n",
    "      %(k_means.n_clusters,c_score,s_score))"
   ],
   "metadata": {
    "collapsed": false,
    "pycharm": {
     "name": "#%%\n",
     "is_executing": true
    }
   }
  }
 ],
 "metadata": {
  "kernelspec": {
   "display_name": "PyCharm (DM)",
   "language": "python",
   "name": "pycharm-e6625acc"
  },
  "language_info": {
   "codemirror_mode": {
    "name": "ipython",
    "version": 3
   },
   "file_extension": ".py",
   "mimetype": "text/x-python",
   "name": "python",
   "nbconvert_exporter": "python",
   "pygments_lexer": "ipython3",
   "version": "3.8.5"
  }
 },
 "nbformat": 4,
 "nbformat_minor": 1
}