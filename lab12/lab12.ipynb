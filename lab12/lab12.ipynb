{
 "cells": [
  {
   "cell_type": "markdown",
   "source": [
    "## XML Analysis"
   ],
   "metadata": {
    "collapsed": false
   }
  },
  {
   "cell_type": "code",
   "execution_count": 1,
   "outputs": [],
   "source": [
    "from xml.dom.minidom import parse, parseString\n",
    "import pandas as pd"
   ],
   "metadata": {
    "collapsed": false,
    "pycharm": {
     "name": "#%%\n"
    }
   }
  },
  {
   "cell_type": "markdown",
   "source": [
    "## DOM"
   ],
   "metadata": {
    "collapsed": false,
    "pycharm": {
     "name": "#%% md\n"
    }
   }
  },
  {
   "cell_type": "code",
   "execution_count": 2,
   "outputs": [],
   "source": [
    "datasource = open('cd.xml')\n",
    "dom = parse(datasource)  # parse an open file\n"
   ],
   "metadata": {
    "collapsed": false,
    "pycharm": {
     "name": "#%%\n"
    }
   }
  },
  {
   "cell_type": "code",
   "execution_count": 3,
   "outputs": [],
   "source": [
    "def getText(nodelist):\n",
    "    rc = []\n",
    "    for node in nodelist:\n",
    "        if node.nodeType == node.TEXT_NODE:\n",
    "            rc.append(node.data)\n",
    "    return ''.join(rc)\n",
    "\n",
    "def handleContent(slides):\n",
    "    df = pd.DataFrame(\n",
    "        columns=['title', 'artist', 'country', 'company', 'price', 'year'])\n",
    "    for slide in slides:\n",
    "        title = slide.getElementsByTagName(\"TITLE\")[0]\n",
    "        artist = slide.getElementsByTagName(\"ARTIST\")[0]\n",
    "        country = slide.getElementsByTagName(\"COUNTRY\")[0]\n",
    "        company = slide.getElementsByTagName(\"COMPANY\")[0]\n",
    "        price = slide.getElementsByTagName(\"PRICE\")[0]\n",
    "        year = slide.getElementsByTagName(\"YEAR\")[0]\n",
    "        slide_series = pd.Series(\n",
    "            {'title': getText(title.childNodes),\n",
    "             'artist': getText(artist.childNodes),\n",
    "             'country': getText(country.childNodes),\n",
    "             'company': getText(company.childNodes),\n",
    "             'price': getText(price.childNodes),\n",
    "             'year': getText(year.childNodes)})\n",
    "        df = df.append(slide_series, ignore_index=True)\n",
    "    return df\n",
    "\n",
    "\n",
    "def handleCATALOG(catalog):\n",
    "    cds = catalog.getElementsByTagName(\"CD\")\n",
    "    return handleContent(cds)\n",
    "\n"
   ],
   "metadata": {
    "collapsed": false,
    "pycharm": {
     "name": "#%%\n"
    }
   }
  },
  {
   "cell_type": "code",
   "execution_count": 4,
   "outputs": [
    {
     "data": {
      "text/plain": "                 title           artist country         company  price  year\n0     Empire Burlesque        Bob Dylan     USA        Columbia  10.90  1985\n1      Hide your heart     Bonnie Tyler      UK     CBS Records   9.90  1988\n2        Greatest Hits     Dolly Parton     USA             RCA   9.90  1982\n3  Still got the blues       Gary Moore      UK  Virgin records  10.20  1990\n4                 Eros  Eros Ramazzotti      EU             BMG   9.90  1997",
      "text/html": "<div>\n<style scoped>\n    .dataframe tbody tr th:only-of-type {\n        vertical-align: middle;\n    }\n\n    .dataframe tbody tr th {\n        vertical-align: top;\n    }\n\n    .dataframe thead th {\n        text-align: right;\n    }\n</style>\n<table border=\"1\" class=\"dataframe\">\n  <thead>\n    <tr style=\"text-align: right;\">\n      <th></th>\n      <th>title</th>\n      <th>artist</th>\n      <th>country</th>\n      <th>company</th>\n      <th>price</th>\n      <th>year</th>\n    </tr>\n  </thead>\n  <tbody>\n    <tr>\n      <th>0</th>\n      <td>Empire Burlesque</td>\n      <td>Bob Dylan</td>\n      <td>USA</td>\n      <td>Columbia</td>\n      <td>10.90</td>\n      <td>1985</td>\n    </tr>\n    <tr>\n      <th>1</th>\n      <td>Hide your heart</td>\n      <td>Bonnie Tyler</td>\n      <td>UK</td>\n      <td>CBS Records</td>\n      <td>9.90</td>\n      <td>1988</td>\n    </tr>\n    <tr>\n      <th>2</th>\n      <td>Greatest Hits</td>\n      <td>Dolly Parton</td>\n      <td>USA</td>\n      <td>RCA</td>\n      <td>9.90</td>\n      <td>1982</td>\n    </tr>\n    <tr>\n      <th>3</th>\n      <td>Still got the blues</td>\n      <td>Gary Moore</td>\n      <td>UK</td>\n      <td>Virgin records</td>\n      <td>10.20</td>\n      <td>1990</td>\n    </tr>\n    <tr>\n      <th>4</th>\n      <td>Eros</td>\n      <td>Eros Ramazzotti</td>\n      <td>EU</td>\n      <td>BMG</td>\n      <td>9.90</td>\n      <td>1997</td>\n    </tr>\n  </tbody>\n</table>\n</div>"
     },
     "execution_count": 4,
     "metadata": {},
     "output_type": "execute_result"
    }
   ],
   "source": [
    "df = handleCATALOG(dom)\n",
    "df.head()"
   ],
   "metadata": {
    "collapsed": false,
    "pycharm": {
     "name": "#%%\n"
    }
   }
  },
  {
   "cell_type": "markdown",
   "source": [
    "## ElementTree"
   ],
   "metadata": {
    "collapsed": false,
    "pycharm": {
     "name": "#%% md\n"
    }
   }
  },
  {
   "cell_type": "code",
   "execution_count": 5,
   "outputs": [],
   "source": [
    "import xml.etree.ElementTree as ET\n",
    "tree = ET.parse('cd.xml')\n",
    "CATALOG = tree.getroot()"
   ],
   "metadata": {
    "collapsed": false,
    "pycharm": {
     "name": "#%%\n"
    }
   }
  },
  {
   "cell_type": "code",
   "execution_count": 6,
   "outputs": [
    {
     "data": {
      "text/plain": "                 title           artist country         company  price  year\n0     Empire Burlesque        Bob Dylan     USA        Columbia  10.90  1985\n1      Hide your heart     Bonnie Tyler      UK     CBS Records   9.90  1988\n2        Greatest Hits     Dolly Parton     USA             RCA   9.90  1982\n3  Still got the blues       Gary Moore      UK  Virgin records  10.20  1990\n4                 Eros  Eros Ramazzotti      EU             BMG   9.90  1997",
      "text/html": "<div>\n<style scoped>\n    .dataframe tbody tr th:only-of-type {\n        vertical-align: middle;\n    }\n\n    .dataframe tbody tr th {\n        vertical-align: top;\n    }\n\n    .dataframe thead th {\n        text-align: right;\n    }\n</style>\n<table border=\"1\" class=\"dataframe\">\n  <thead>\n    <tr style=\"text-align: right;\">\n      <th></th>\n      <th>title</th>\n      <th>artist</th>\n      <th>country</th>\n      <th>company</th>\n      <th>price</th>\n      <th>year</th>\n    </tr>\n  </thead>\n  <tbody>\n    <tr>\n      <th>0</th>\n      <td>Empire Burlesque</td>\n      <td>Bob Dylan</td>\n      <td>USA</td>\n      <td>Columbia</td>\n      <td>10.90</td>\n      <td>1985</td>\n    </tr>\n    <tr>\n      <th>1</th>\n      <td>Hide your heart</td>\n      <td>Bonnie Tyler</td>\n      <td>UK</td>\n      <td>CBS Records</td>\n      <td>9.90</td>\n      <td>1988</td>\n    </tr>\n    <tr>\n      <th>2</th>\n      <td>Greatest Hits</td>\n      <td>Dolly Parton</td>\n      <td>USA</td>\n      <td>RCA</td>\n      <td>9.90</td>\n      <td>1982</td>\n    </tr>\n    <tr>\n      <th>3</th>\n      <td>Still got the blues</td>\n      <td>Gary Moore</td>\n      <td>UK</td>\n      <td>Virgin records</td>\n      <td>10.20</td>\n      <td>1990</td>\n    </tr>\n    <tr>\n      <th>4</th>\n      <td>Eros</td>\n      <td>Eros Ramazzotti</td>\n      <td>EU</td>\n      <td>BMG</td>\n      <td>9.90</td>\n      <td>1997</td>\n    </tr>\n  </tbody>\n</table>\n</div>"
     },
     "execution_count": 6,
     "metadata": {},
     "output_type": "execute_result"
    }
   ],
   "source": [
    "df = pd.DataFrame(\n",
    "        columns=['title', 'artist', 'country', 'company', 'price', 'year'])\n",
    "for CD in CATALOG:\n",
    "    CD_info = {}\n",
    "    for child in CD:\n",
    "        CD_info[str(child.tag).lower()]=child.text\n",
    "    slide_series = pd.Series(CD_info)\n",
    "    df = df.append(slide_series, ignore_index=True)\n",
    "\n",
    "df.head()\n"
   ],
   "metadata": {
    "collapsed": false,
    "pycharm": {
     "name": "#%%\n"
    }
   }
  }
 ],
 "metadata": {
  "kernelspec": {
   "name": "pycharm-e6625acc",
   "language": "python",
   "display_name": "PyCharm (DM)"
  },
  "language_info": {
   "codemirror_mode": {
    "name": "ipython",
    "version": 2
   },
   "file_extension": ".py",
   "mimetype": "text/x-python",
   "name": "python",
   "nbconvert_exporter": "python",
   "pygments_lexer": "ipython2",
   "version": "2.7.6"
  }
 },
 "nbformat": 4,
 "nbformat_minor": 0
}