{
 "cells": [
  {
   "cell_type": "code",
   "execution_count": null,
   "metadata": {
    "pycharm": {
     "name": "#%%\n"
    }
   },
   "outputs": [],
   "source": [
    "import numpy as np\n",
    "import pandas as pd\n",
    "import matplotlib.pyplot as plt\n",
    "from sklearn.preprocessing import StandardScaler\n",
    "from sklearn.model_selection import train_test_split\n",
    "from sklearn import metrics\n",
    "\n",
    "\n",
    "plt.style.use('ggplot')"
   ]
  },
  {
   "cell_type": "markdown",
   "metadata": {
    "pycharm": {
     "name": "#%% md\n"
    }
   },
   "source": [
    "## Question 1"
   ]
  },
  {
   "cell_type": "code",
   "execution_count": null,
   "metadata": {
    "pycharm": {
     "name": "#%%\n"
    }
   },
   "outputs": [],
   "source": [
    "# Load Question one Data\n",
    "df_1 = pd.read_csv('./HW2_1_data.csv')\n",
    "df_1.head()"
   ]
  },
  {
   "cell_type": "markdown",
   "metadata": {
    "pycharm": {
     "name": "#%% md\n"
    }
   },
   "source": [
    "### Data Cleaning"
   ]
  },
  {
   "cell_type": "code",
   "execution_count": null,
   "metadata": {
    "pycharm": {
     "name": "#%%\n"
    }
   },
   "outputs": [],
   "source": [
    "# drop nan\n",
    "df_1.dropna(inplace=True)"
   ]
  },
  {
   "cell_type": "code",
   "execution_count": null,
   "metadata": {
    "pycharm": {
     "name": "#%%\n"
    }
   },
   "outputs": [],
   "source": [
    "# View the relative variances of each data,\n",
    "# find that chlorides (col 4) and pH (col 8) may have outliers\n",
    "print(\"relative variances\")\n",
    "print(StandardScaler().fit(X=df_1).var_)\n"
   ]
  },
  {
   "cell_type": "code",
   "execution_count": null,
   "metadata": {
    "pycharm": {
     "name": "#%%\n"
    }
   },
   "outputs": [],
   "source": [
    "# View chlorides mean, variance, and quantile statistics\n",
    "print(\"chlorides describe\")\n",
    "print(df_1.chlorides.describe())\n",
    "\n",
    "# The maximum value of chlorides 1000000 is obviously an abnormal input.\n",
    "# Delete the part where chlorides is greater than 1\n",
    "df_1 = df_1[df_1.chlorides <= 1]\n"
   ]
  },
  {
   "cell_type": "code",
   "execution_count": null,
   "metadata": {
    "pycharm": {
     "name": "#%%\n"
    }
   },
   "outputs": [],
   "source": [
    "# View pH mean, variance, and quantile statistics\n",
    "print(\"pH describe\")\n",
    "print(df_1.pH.describe())\n",
    "\n",
    "# The maximum value of pH 1000000 is obviously an abnormal input.\n",
    "# The normal pH range is 0-14. So delete the part where chlorides is greater than 1\n",
    "df_1 = df_1[df_1.pH <= 14]"
   ]
  },
  {
   "cell_type": "code",
   "execution_count": null,
   "metadata": {
    "pycharm": {
     "name": "#%%\n"
    }
   },
   "outputs": [],
   "source": [
    "# Split variables and labels\n",
    "X_1 = df_1.iloc[:, :-1].values\n",
    "y_1 = df_1.iloc[:, -1].values\n",
    "\n"
   ]
  },
  {
   "cell_type": "markdown",
   "metadata": {
    "pycharm": {
     "name": "#%% md\n"
    }
   },
   "source": [
    "###  Decision tree\n"
   ]
  },
  {
   "cell_type": "code",
   "execution_count": null,
   "metadata": {
    "pycharm": {
     "name": "#%%\n"
    }
   },
   "outputs": [],
   "source": [
    "from sklearn import tree"
   ]
  },
  {
   "cell_type": "code",
   "execution_count": null,
   "metadata": {
    "pycharm": {
     "name": "#%%\n"
    }
   },
   "outputs": [],
   "source": [
    "\n",
    "# Split the train set and test set by an 8:2 ratio\n",
    "X_train_1_1, X_test_1_1, y_train_1_1, y_test_1_1 = train_test_split(X_1, y_1, test_size=0.20, shuffle= True)\n"
   ]
  },
  {
   "cell_type": "code",
   "execution_count": null,
   "metadata": {
    "pycharm": {
     "name": "#%%\n"
    }
   },
   "outputs": [],
   "source": [
    "# Build a Decision Tree model\n",
    "clf_1_1 = tree.DecisionTreeClassifier()\n",
    "# Fit the model\n",
    "clf_1_1 = clf_1_1.fit(X_train_1_1, y_train_1_1)\n",
    "# Print the accuracy\n",
    "print(metrics.accuracy_score(clf_1_1.predict(X_test_1_1),y_test_1_1))"
   ]
  },
  {
   "cell_type": "markdown",
   "metadata": {
    "pycharm": {
     "name": "#%% md\n"
    }
   },
   "source": [
    "### SVM"
   ]
  },
  {
   "cell_type": "code",
   "execution_count": null,
   "metadata": {
    "pycharm": {
     "name": "#%%\n"
    }
   },
   "outputs": [],
   "source": [
    "from sklearn.svm import SVC"
   ]
  },
  {
   "cell_type": "code",
   "execution_count": null,
   "metadata": {
    "pycharm": {
     "name": "#%%\n"
    }
   },
   "outputs": [],
   "source": [
    "# standardize X, for better performance in SVM\n",
    "X_1_2 = StandardScaler().fit_transform(X_1)\n",
    "\n",
    "# Split the train set and test set by an 8:2 ratio\n",
    "X_train_1_2, X_test_1_2, y_train_1_2, y_test_1_2 = train_test_split(X_1_2, y_1, test_size=0.20, shuffle= True)"
   ]
  },
  {
   "cell_type": "code",
   "execution_count": null,
   "metadata": {
    "pycharm": {
     "name": "#%%\n"
    }
   },
   "outputs": [],
   "source": [
    "# Build a RBF SVM model\n",
    "clf_1_2 = SVC(C=400, gamma=0.002, kernel='rbf')\n",
    "# Fit the model\n",
    "clf_1_2.fit(X_train_1_2,y_train_1_2)\n",
    "# Print the accuracy\n",
    "print(metrics.accuracy_score(clf_1_2.predict(X_test_1_2),y_test_1_2))"
   ]
  },
  {
   "cell_type": "markdown",
   "metadata": {
    "pycharm": {
     "name": "#%% md\n"
    }
   },
   "source": [
    "## Question 2"
   ]
  },
  {
   "cell_type": "code",
   "execution_count": null,
   "metadata": {
    "pycharm": {
     "name": "#%%\n"
    }
   },
   "outputs": [],
   "source": [
    "# Load Question two Data\n",
    "df_2 = pd.read_csv('./HW2_2_data.csv')\n",
    "df_2.head()\n"
   ]
  },
  {
   "cell_type": "code",
   "execution_count": null,
   "metadata": {
    "pycharm": {
     "name": "#%%\n"
    }
   },
   "outputs": [],
   "source": [
    "# Statistics of duplicate data\n",
    "# As the duplicated data accounted for more than half of the original data,\n",
    "# we did not think that the duplicated data were accidental outliers,\n",
    "# but should be the characteristics of the data itself.\n",
    "# Therefore, we retained the duplicated data and did not delete it\n",
    "print(\"Duplicate Statistics\")\n",
    "print(df_2.duplicated().value_counts())"
   ]
  },
  {
   "cell_type": "code",
   "execution_count": null,
   "metadata": {
    "pycharm": {
     "name": "#%%\n"
    }
   },
   "outputs": [],
   "source": [
    "# drop nan\n",
    "df_2.dropna(inplace=True)"
   ]
  },
  {
   "cell_type": "code",
   "execution_count": null,
   "metadata": {
    "pycharm": {
     "name": "#%%\n"
    }
   },
   "outputs": [],
   "source": [
    "# Split variables and labels\n",
    "X_2 = df_2.iloc[:, :-1].values\n",
    "y_2 = df_2.iloc[:, -1].values"
   ]
  },
  {
   "cell_type": "code",
   "execution_count": null,
   "metadata": {
    "pycharm": {
     "name": "#%%\n"
    }
   },
   "outputs": [],
   "source": [
    "# Split the train set and test set by an 8:2 ratio\n",
    "X_train_2, X_test_2, y_train_2, y_test_2 = train_test_split(X_2, y_2, test_size=0.20, shuffle= True)\n"
   ]
  },
  {
   "cell_type": "code",
   "execution_count": null,
   "metadata": {
    "pycharm": {
     "name": "#%%\n"
    }
   },
   "outputs": [],
   "source": [
    "# Build a Decision Tree model\n",
    "clf_2 = tree.DecisionTreeClassifier()\n",
    "# Fit the model\n",
    "clf_2 = clf_2.fit(X_train_2, y_train_2)\n",
    "# Print the accuracy\n",
    "print(metrics.accuracy_score(clf_2.predict(X_test_2),y_test_2))\n"
   ]
  }
 ],
 "metadata": {
  "kernelspec": {
   "display_name": "PyCharm (DM)",
   "language": "python",
   "name": "pycharm-e6625acc"
  },
  "language_info": {
   "codemirror_mode": {
    "name": "ipython",
    "version": 3
   },
   "file_extension": ".py",
   "mimetype": "text/x-python",
   "name": "python",
   "nbconvert_exporter": "python",
   "pygments_lexer": "ipython3",
   "version": "3.8.5"
  }
 },
 "nbformat": 4,
 "nbformat_minor": 1
}