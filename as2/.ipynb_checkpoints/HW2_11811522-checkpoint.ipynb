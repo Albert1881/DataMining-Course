{
 "cells": [
  {
   "cell_type": "code",
   "execution_count": 1,
   "metadata": {
    "pycharm": {
     "name": "#%%\n"
    }
   },
   "outputs": [],
   "source": [
    "import numpy as np\n",
    "import pandas as pd\n",
    "import matplotlib.pyplot as plt\n",
    "from sklearn.preprocessing import StandardScaler\n",
    "from sklearn.model_selection import train_test_split\n",
    "from sklearn import metrics\n",
    "\n",
    "\n",
    "plt.style.use('ggplot')"
   ]
  },
  {
   "cell_type": "markdown",
   "metadata": {
    "pycharm": {
     "name": "#%% md\n"
    }
   },
   "source": [
    "## Question 1"
   ]
  },
  {
   "cell_type": "code",
   "execution_count": 2,
   "metadata": {
    "pycharm": {
     "name": "#%%\n"
    }
   },
   "outputs": [
    {
     "data": {
      "text/html": [
       "<div>\n",
       "<style scoped>\n",
       "    .dataframe tbody tr th:only-of-type {\n",
       "        vertical-align: middle;\n",
       "    }\n",
       "\n",
       "    .dataframe tbody tr th {\n",
       "        vertical-align: top;\n",
       "    }\n",
       "\n",
       "    .dataframe thead th {\n",
       "        text-align: right;\n",
       "    }\n",
       "</style>\n",
       "<table border=\"1\" class=\"dataframe\">\n",
       "  <thead>\n",
       "    <tr style=\"text-align: right;\">\n",
       "      <th></th>\n",
       "      <th>fixed acidity</th>\n",
       "      <th>volatile acidity</th>\n",
       "      <th>citric acid</th>\n",
       "      <th>residual sugar</th>\n",
       "      <th>chlorides</th>\n",
       "      <th>free sulfur dioxide</th>\n",
       "      <th>total sulfur dioxide</th>\n",
       "      <th>density</th>\n",
       "      <th>pH</th>\n",
       "      <th>sulphates</th>\n",
       "      <th>alcohol</th>\n",
       "      <th>quality</th>\n",
       "    </tr>\n",
       "  </thead>\n",
       "  <tbody>\n",
       "    <tr>\n",
       "      <th>0</th>\n",
       "      <td>6.4</td>\n",
       "      <td>0.18</td>\n",
       "      <td>0.74</td>\n",
       "      <td>11.9</td>\n",
       "      <td>0.046</td>\n",
       "      <td>54.0</td>\n",
       "      <td>168.0</td>\n",
       "      <td>0.9978</td>\n",
       "      <td>3.10</td>\n",
       "      <td>0.68</td>\n",
       "      <td>10.1</td>\n",
       "      <td>5</td>\n",
       "    </tr>\n",
       "    <tr>\n",
       "      <th>1</th>\n",
       "      <td>9.8</td>\n",
       "      <td>0.31</td>\n",
       "      <td>0.49</td>\n",
       "      <td>15.4</td>\n",
       "      <td>0.046</td>\n",
       "      <td>13.0</td>\n",
       "      <td>119.0</td>\n",
       "      <td>1.0004</td>\n",
       "      <td>3.18</td>\n",
       "      <td>0.45</td>\n",
       "      <td>9.5</td>\n",
       "      <td>5</td>\n",
       "    </tr>\n",
       "    <tr>\n",
       "      <th>2</th>\n",
       "      <td>7.3</td>\n",
       "      <td>0.30</td>\n",
       "      <td>0.74</td>\n",
       "      <td>13.5</td>\n",
       "      <td>0.039</td>\n",
       "      <td>46.0</td>\n",
       "      <td>165.0</td>\n",
       "      <td>0.9982</td>\n",
       "      <td>3.02</td>\n",
       "      <td>0.40</td>\n",
       "      <td>8.7</td>\n",
       "      <td>5</td>\n",
       "    </tr>\n",
       "    <tr>\n",
       "      <th>3</th>\n",
       "      <td>9.3</td>\n",
       "      <td>0.31</td>\n",
       "      <td>0.49</td>\n",
       "      <td>1.3</td>\n",
       "      <td>0.042</td>\n",
       "      <td>34.0</td>\n",
       "      <td>147.0</td>\n",
       "      <td>0.9948</td>\n",
       "      <td>3.11</td>\n",
       "      <td>0.46</td>\n",
       "      <td>9.8</td>\n",
       "      <td>5</td>\n",
       "    </tr>\n",
       "    <tr>\n",
       "      <th>4</th>\n",
       "      <td>6.6</td>\n",
       "      <td>0.55</td>\n",
       "      <td>0.01</td>\n",
       "      <td>2.7</td>\n",
       "      <td>0.034</td>\n",
       "      <td>56.0</td>\n",
       "      <td>122.0</td>\n",
       "      <td>0.9906</td>\n",
       "      <td>3.15</td>\n",
       "      <td>0.30</td>\n",
       "      <td>11.9</td>\n",
       "      <td>5</td>\n",
       "    </tr>\n",
       "  </tbody>\n",
       "</table>\n",
       "</div>"
      ],
      "text/plain": [
       "   fixed acidity  volatile acidity  citric acid  residual sugar  chlorides  \\\n",
       "0            6.4              0.18         0.74            11.9      0.046   \n",
       "1            9.8              0.31         0.49            15.4      0.046   \n",
       "2            7.3              0.30         0.74            13.5      0.039   \n",
       "3            9.3              0.31         0.49             1.3      0.042   \n",
       "4            6.6              0.55         0.01             2.7      0.034   \n",
       "\n",
       "   free sulfur dioxide  total sulfur dioxide  density    pH  sulphates  \\\n",
       "0                 54.0                 168.0   0.9978  3.10       0.68   \n",
       "1                 13.0                 119.0   1.0004  3.18       0.45   \n",
       "2                 46.0                 165.0   0.9982  3.02       0.40   \n",
       "3                 34.0                 147.0   0.9948  3.11       0.46   \n",
       "4                 56.0                 122.0   0.9906  3.15       0.30   \n",
       "\n",
       "   alcohol  quality  \n",
       "0     10.1        5  \n",
       "1      9.5        5  \n",
       "2      8.7        5  \n",
       "3      9.8        5  \n",
       "4     11.9        5  "
      ]
     },
     "execution_count": 2,
     "metadata": {},
     "output_type": "execute_result"
    }
   ],
   "source": [
    "# Load Question one Data\n",
    "df_1 = pd.read_csv('./HW2_1_data.csv')\n",
    "df_1.head()"
   ]
  },
  {
   "cell_type": "markdown",
   "metadata": {
    "pycharm": {
     "name": "#%% md\n"
    }
   },
   "source": [
    "### Data Cleaning"
   ]
  },
  {
   "cell_type": "code",
   "execution_count": 3,
   "metadata": {
    "pycharm": {
     "name": "#%%\n"
    }
   },
   "outputs": [],
   "source": [
    "# drop nan\n",
    "df_1.dropna(inplace=True)"
   ]
  },
  {
   "cell_type": "code",
   "execution_count": 4,
   "metadata": {
    "pycharm": {
     "name": "#%%\n"
    }
   },
   "outputs": [
    {
     "name": "stdout",
     "output_type": "stream",
     "text": [
      "relative variances\n",
      "[6.47372428e-01 9.40570192e-03 1.32422012e-02 2.31573802e+01\n",
      " 2.98864261e+08 2.56503569e+02 1.64590982e+03 8.28656192e-06\n",
      " 5.97239081e+04 1.21698394e-02 1.55727238e+00 5.97309953e-01]\n"
     ]
    }
   ],
   "source": [
    "# View the relative variances of each data,\n",
    "# find that chlorides (col 4) and pH (col 8) may have outliers\n",
    "print(\"relative variances\")\n",
    "print(StandardScaler().fit(X=df_1).var_)\n"
   ]
  },
  {
   "cell_type": "code",
   "execution_count": 5,
   "metadata": {
    "pycharm": {
     "name": "#%%\n"
    }
   },
   "outputs": [
    {
     "name": "stdout",
     "output_type": "stream",
     "text": [
      "chlorides describe\n",
      "count       3345.000000\n",
      "mean         299.000069\n",
      "std        17290.275719\n",
      "min            0.009000\n",
      "25%            0.036000\n",
      "50%            0.043000\n",
      "75%            0.050000\n",
      "max      1000000.000000\n",
      "Name: chlorides, dtype: float64\n"
     ]
    }
   ],
   "source": [
    "# View chlorides mean, variance, and quantile statistics\n",
    "print(\"chlorides describe\")\n",
    "print(df_1.chlorides.describe())\n",
    "\n",
    "# The maximum value of chlorides 1000000 is obviously an abnormal input.\n",
    "# Delete the part where chlorides is greater than 1\n",
    "df_1 = df_1[df_1.chlorides <= 1]\n"
   ]
  },
  {
   "cell_type": "code",
   "execution_count": 6,
   "metadata": {
    "pycharm": {
     "name": "#%%\n"
    }
   },
   "outputs": [
    {
     "name": "stdout",
     "output_type": "stream",
     "text": [
      "pH describe\n",
      "count     3344.000000\n",
      "mean         9.556388\n",
      "std        244.457823\n",
      "min          2.790000\n",
      "25%          3.180000\n",
      "50%          3.540000\n",
      "75%          3.800000\n",
      "max      10000.000000\n",
      "Name: pH, dtype: float64\n"
     ]
    }
   ],
   "source": [
    "# View pH mean, variance, and quantile statistics\n",
    "print(\"pH describe\")\n",
    "print(df_1.pH.describe())\n",
    "\n",
    "# The maximum value of pH 1000000 is obviously an abnormal input.\n",
    "# The normal pH range is 0-14. So delete the part where chlorides is greater than 1\n",
    "df_1 = df_1[df_1.pH <= 14]"
   ]
  },
  {
   "cell_type": "code",
   "execution_count": 7,
   "metadata": {
    "pycharm": {
     "name": "#%%\n"
    }
   },
   "outputs": [],
   "source": [
    "# Split variables and labels\n",
    "X_1 = df_1.iloc[:, :-1].values\n",
    "y_1 = df_1.iloc[:, -1].values\n",
    "\n"
   ]
  },
  {
   "cell_type": "markdown",
   "metadata": {
    "pycharm": {
     "name": "#%% md\n"
    }
   },
   "source": [
    "### Desion Tree\n"
   ]
  },
  {
   "cell_type": "code",
   "execution_count": 8,
   "metadata": {
    "pycharm": {
     "name": "#%%\n"
    }
   },
   "outputs": [],
   "source": [
    "from sklearn import tree"
   ]
  },
  {
   "cell_type": "code",
   "execution_count": 9,
   "metadata": {
    "pycharm": {
     "name": "#%%\n"
    }
   },
   "outputs": [],
   "source": [
    "\n",
    "# Split the train set and test set by an 8:2 ratio\n",
    "X_train_1_1, X_test_1_1, y_train_1_1, y_test_1_1 = train_test_split(X_1, y_1, test_size=0.20, shuffle= True)\n"
   ]
  },
  {
   "cell_type": "code",
   "execution_count": 10,
   "metadata": {
    "pycharm": {
     "name": "#%%\n"
    }
   },
   "outputs": [
    {
     "name": "stdout",
     "output_type": "stream",
     "text": [
      "0.9506726457399103\n"
     ]
    }
   ],
   "source": [
    "# Build a Desion Tree model\n",
    "clf_1_1 = tree.DecisionTreeClassifier()\n",
    "# Fit the model\n",
    "clf_1_1 = clf_1_1.fit(X_train_1_1, y_train_1_1)\n",
    "# Print the accuracy\n",
    "print(metrics.accuracy_score(clf_1_1.predict(X_test_1_1),y_test_1_1))"
   ]
  },
  {
   "cell_type": "markdown",
   "metadata": {
    "pycharm": {
     "name": "#%% md\n"
    }
   },
   "source": [
    "### SVM"
   ]
  },
  {
   "cell_type": "code",
   "execution_count": 11,
   "metadata": {
    "pycharm": {
     "name": "#%%\n"
    }
   },
   "outputs": [],
   "source": [
    "from sklearn.svm import SVC"
   ]
  },
  {
   "cell_type": "code",
   "execution_count": 12,
   "metadata": {
    "pycharm": {
     "name": "#%%\n"
    }
   },
   "outputs": [],
   "source": [
    "# standardize X, for better performance in SVM\n",
    "X_1_2 = StandardScaler().fit_transform(X_1)\n",
    "\n",
    "# Split the train set and test set by an 8:2 ratio\n",
    "X_train_1_2, X_test_1_2, y_train_1_2, y_test_1_2 = train_test_split(X_1_2, y_1, test_size=0.20, shuffle= True)"
   ]
  },
  {
   "cell_type": "code",
   "execution_count": 13,
   "metadata": {
    "pycharm": {
     "name": "#%%\n"
    }
   },
   "outputs": [
    {
     "data": {
      "text/plain": [
       "0.9850523168908819"
      ]
     },
     "execution_count": 13,
     "metadata": {},
     "output_type": "execute_result"
    }
   ],
   "source": [
    "# Build a RBF SVM model\n",
    "clf_1_2 = SVC(C=400, gamma=0.002, kernel='rbf')\n",
    "# Fit the model\n",
    "clf_1_2.fit(X_train_1_2,y_train_1_2)\n",
    "# Print the accuracy\n",
    "print(metrics.accuracy_score(clf_1_2.predict(X_test_1_2),y_test_1_2))"
   ]
  },
  {
   "cell_type": "markdown",
   "metadata": {
    "pycharm": {
     "name": "#%% md\n"
    }
   },
   "source": [
    "## Question 2"
   ]
  },
  {
   "cell_type": "code",
   "execution_count": 14,
   "metadata": {
    "pycharm": {
     "name": "#%%\n"
    }
   },
   "outputs": [
    {
     "data": {
      "text/html": [
       "<div>\n",
       "<style scoped>\n",
       "    .dataframe tbody tr th:only-of-type {\n",
       "        vertical-align: middle;\n",
       "    }\n",
       "\n",
       "    .dataframe tbody tr th {\n",
       "        vertical-align: top;\n",
       "    }\n",
       "\n",
       "    .dataframe thead th {\n",
       "        text-align: right;\n",
       "    }\n",
       "</style>\n",
       "<table border=\"1\" class=\"dataframe\">\n",
       "  <thead>\n",
       "    <tr style=\"text-align: right;\">\n",
       "      <th></th>\n",
       "      <th>x1</th>\n",
       "      <th>x2</th>\n",
       "      <th>x3</th>\n",
       "      <th>class</th>\n",
       "    </tr>\n",
       "  </thead>\n",
       "  <tbody>\n",
       "    <tr>\n",
       "      <th>0</th>\n",
       "      <td>-0.140120</td>\n",
       "      <td>0.715737</td>\n",
       "      <td>0</td>\n",
       "      <td>1</td>\n",
       "    </tr>\n",
       "    <tr>\n",
       "      <th>1</th>\n",
       "      <td>0.450141</td>\n",
       "      <td>-0.774099</td>\n",
       "      <td>200</td>\n",
       "      <td>0</td>\n",
       "    </tr>\n",
       "    <tr>\n",
       "      <th>2</th>\n",
       "      <td>0.034433</td>\n",
       "      <td>0.677435</td>\n",
       "      <td>400</td>\n",
       "      <td>1</td>\n",
       "    </tr>\n",
       "    <tr>\n",
       "      <th>3</th>\n",
       "      <td>-0.157656</td>\n",
       "      <td>0.284413</td>\n",
       "      <td>600</td>\n",
       "      <td>1</td>\n",
       "    </tr>\n",
       "    <tr>\n",
       "      <th>4</th>\n",
       "      <td>-0.285640</td>\n",
       "      <td>-1.330758</td>\n",
       "      <td>800</td>\n",
       "      <td>0</td>\n",
       "    </tr>\n",
       "  </tbody>\n",
       "</table>\n",
       "</div>"
      ],
      "text/plain": [
       "         x1        x2   x3  class\n",
       "0 -0.140120  0.715737    0      1\n",
       "1  0.450141 -0.774099  200      0\n",
       "2  0.034433  0.677435  400      1\n",
       "3 -0.157656  0.284413  600      1\n",
       "4 -0.285640 -1.330758  800      0"
      ]
     },
     "execution_count": 14,
     "metadata": {},
     "output_type": "execute_result"
    }
   ],
   "source": [
    "# Load Question two Data\n",
    "df_2 = pd.read_csv('./HW2_2_data.csv')\n",
    "df_2.head()\n"
   ]
  },
  {
   "cell_type": "code",
   "execution_count": 20,
   "metadata": {
    "pycharm": {
     "name": "#%%\n"
    }
   },
   "outputs": [
    {
     "name": "stdout",
     "output_type": "stream",
     "text": [
      "Duplicate Statistics\n",
      "True     1200\n",
      "False     300\n",
      "dtype: int64\n"
     ]
    }
   ],
   "source": [
    "# Statistics of duplicate data\n",
    "# As the duplicated data accounted for more than half of the original data,\n",
    "# we did not think that the duplicated data were accidental outliers,\n",
    "# but should be the characteristics of the data itself.\n",
    "# Therefore, we retained the duplicated data and did not delete it\n",
    "print(\"Duplicate Statistics\")\n",
    "print(df_2.duplicated().value_counts())"
   ]
  },
  {
   "cell_type": "code",
   "execution_count": 21,
   "metadata": {
    "pycharm": {
     "name": "#%%\n"
    }
   },
   "outputs": [],
   "source": [
    "# drop nan\n",
    "df_2.dropna(inplace=True)"
   ]
  },
  {
   "cell_type": "code",
   "execution_count": 22,
   "metadata": {
    "pycharm": {
     "name": "#%%\n"
    }
   },
   "outputs": [],
   "source": [
    "# Split variables and labels\n",
    "X_2 = df_2.iloc[:, :-1].values\n",
    "y_2 = df_2.iloc[:, -1].values"
   ]
  },
  {
   "cell_type": "code",
   "execution_count": 24,
   "metadata": {
    "pycharm": {
     "name": "#%%\n"
    }
   },
   "outputs": [],
   "source": [
    "# Split the train set and test set by an 8:2 ratio\n",
    "X_train_2, X_test_2, y_train_2, y_test_2 = train_test_split(X_2, y_2, test_size=0.20, shuffle= True)\n"
   ]
  },
  {
   "cell_type": "code",
   "execution_count": 25,
   "metadata": {
    "pycharm": {
     "name": "#%%\n"
    }
   },
   "outputs": [
    {
     "name": "stdout",
     "output_type": "stream",
     "text": [
      "1.0\n"
     ]
    }
   ],
   "source": [
    "# Build a Desion Tree model\n",
    "clf_2 = tree.DecisionTreeClassifier()\n",
    "# Fit the model\n",
    "clf_2 = clf_2.fit(X_train_2, y_train_2)\n",
    "# Print the accuracy\n",
    "print(metrics.accuracy_score(clf_2.predict(X_test_2),y_test_2))\n"
   ]
  }
 ],
 "metadata": {
  "kernelspec": {
   "display_name": "PyCharm (DM)",
   "language": "python",
   "name": "pycharm-e6625acc"
  },
  "language_info": {
   "codemirror_mode": {
    "name": "ipython",
    "version": 3
   },
   "file_extension": ".py",
   "mimetype": "text/x-python",
   "name": "python",
   "nbconvert_exporter": "python",
   "pygments_lexer": "ipython3",
   "version": "3.8.5"
  }
 },
 "nbformat": 4,
 "nbformat_minor": 1
}
